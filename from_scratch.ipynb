{
 "cells": [
  {
   "cell_type": "code",
   "execution_count": 53,
   "id": "e44ff8ee",
   "metadata": {},
   "outputs": [],
   "source": [
    "import os\n",
    "import numpy as np\n",
    "os.environ['TF_ENABLE_ONEDNN_OPTS'] = '0'\n",
    "from tensorflow import keras\n",
    "import tensorflow as tf\n",
    "import torch\n",
    "\n",
    "np.random.seed(42)\n",
    "tf.random.set_seed(42)\n",
    "g = torch.Generator().manual_seed(2147483647)"
   ]
  },
  {
   "cell_type": "code",
   "execution_count": 54,
   "id": "5b1f392a",
   "metadata": {},
   "outputs": [],
   "source": [
    "class Linear:\n",
    "    \n",
    "    def __init__(self, fan_in, fan_out, bias=True):\n",
    "        self.weight = torch.randn((fan_in, fan_out)) * (fan_in**-0.5)\n",
    "        self.bias = torch.zeros(fan_out) if bias else None\n",
    "\n",
    "    def __call__(self, x):\n",
    "        self.out = x @ self.weight\n",
    "        if self.bias is not None:\n",
    "            self.out += self.bias\n",
    "        return self.out\n",
    "    \n",
    "    def parameters(self):\n",
    "        return [self.weight] + ([] if self.bias is None else [self.bias])\n",
    "    \n",
    "class ReLU:\n",
    "    \n",
    "    def __call__(self, x):\n",
    "        self.out = torch.relu(x)\n",
    "        return self.out\n",
    "    \n",
    "    def parameters(self):\n",
    "        return []\n",
    "    \n",
    "class Sequential:\n",
    "\n",
    "    def __init__(self, layers):\n",
    "        self.layers = layers\n",
    "\n",
    "    def __call__(self, x):\n",
    "        for layer in self.layers:\n",
    "            x = layer(x)\n",
    "        self.out = x\n",
    "        return self.out\n",
    "    \n",
    "    def parameters(self):\n",
    "        return [p for layer in self.layers for p in layer.parameters()]"
   ]
  },
  {
   "cell_type": "code",
   "execution_count": 55,
   "id": "3c351d01",
   "metadata": {},
   "outputs": [],
   "source": [
    "# import the dataset\n",
    "(X_train, y_train), (X_test, y_test) = tf.keras.datasets.mnist.load_data()\n",
    "\n",
    "# scale the values and reshape the tensors to make them 2D\n",
    "X_train = X_train.astype('float32') / 255.0\n",
    "X_test = X_test.astype('float32')  / 255.0\n",
    "\n",
    "X_train = X_train.reshape(-1,28*28)\n",
    "X_test = X_test.reshape(-1,28*28)\n",
    "\n",
    "# convert the tensorflow tensors to pytorch tensors\n",
    "numpy_arr = [X_train, y_train, X_test, y_test]\n",
    "pytorch_tensors = [torch.from_numpy(t) for t in numpy_arr]\n",
    "X_train, y_train, X_test, y_test = pytorch_tensors\n",
    "\n",
    "# split the dataset into train, eval and test sets\n",
    "n = int(0.9 * len(X_train))\n",
    "Xtr, X_val, ytr, y_val = X_train[:n], X_train[n:], y_train[:n], y_train[n:]"
   ]
  },
  {
   "cell_type": "code",
   "execution_count": 56,
   "id": "e1753fb1",
   "metadata": {},
   "outputs": [
    {
     "data": {
      "text/plain": [
       "(torch.Size([54000, 784]), torch.Size([6000, 784]), torch.Size([10000, 784]))"
      ]
     },
     "execution_count": 56,
     "metadata": {},
     "output_type": "execute_result"
    }
   ],
   "source": [
    "Xtr.shape, X_val.shape, X_test.shape"
   ]
  },
  {
   "cell_type": "code",
   "execution_count": 57,
   "id": "5810c14c",
   "metadata": {},
   "outputs": [],
   "source": [
    "# define the model\n",
    "n_hidden = 128\n",
    "num_digits = 10\n",
    "\n",
    "model = Sequential([\n",
    "    Linear(784, n_hidden), ReLU(),\n",
    "    Linear(n_hidden, n_hidden), ReLU(),\n",
    "    Linear(n_hidden, num_digits),\n",
    "])\n",
    "\n",
    "with torch.no_grad():\n",
    "    model.layers[-1].weight *= 0.1\n",
    "    \n",
    "parameters = model.parameters()\n",
    "for p in parameters:\n",
    "    p.requires_grad = True"
   ]
  },
  {
   "cell_type": "code",
   "execution_count": 58,
   "id": "46eb50c8",
   "metadata": {},
   "outputs": [
    {
     "name": "stdout",
     "output_type": "stream",
     "text": [
      "      0/  10000: 2.2940\n",
      "   1000/  10000: 0.2820\n",
      "   2000/  10000: 0.1132\n",
      "   3000/  10000: 0.0313\n",
      "   4000/  10000: 0.1122\n",
      "   5000/  10000: 0.0785\n",
      "   6000/  10000: 0.0233\n",
      "   7000/  10000: 0.1029\n",
      "   8000/  10000: 0.0939\n",
      "   9000/  10000: 0.0788\n"
     ]
    }
   ],
   "source": [
    "# train the model on the train set\n",
    "max_steps = 10000\n",
    "batch_size = 32\n",
    "lossi = []\n",
    "\n",
    "for i in range(max_steps):\n",
    "\n",
    "    ix = torch.randint(0, Xtr.shape[0], (batch_size,), generator=g)\n",
    "    Xb, yb = Xtr[ix], ytr[ix]\n",
    "\n",
    "    logits = model(Xb)\n",
    "    logits_maxes = logits.max(axis=1, keepdim=True).values\n",
    "    stable_logits = logits - logits_maxes\n",
    "    counts = logits.exp()\n",
    "    probs = counts / counts.sum(axis=1, keepdim=True)\n",
    "    loss = -probs[torch.arange(batch_size), yb.long()].log().mean()\n",
    "    # loss = torch.nn.functional.cross_entropy(logits, yb.long())\n",
    "\n",
    "    # backward pass\n",
    "    for p in parameters:\n",
    "        p.grad = None\n",
    "    loss.backward()\n",
    "\n",
    "    # update\n",
    "    lr = 0.1\n",
    "    for p in parameters:\n",
    "        p.data += -lr * p.grad\n",
    "\n",
    "    # track stats\n",
    "    if i % 1000 == 0:\n",
    "        print(f'{i:7d}/{max_steps:7d}: {loss.item():.4f}')\n",
    "    lossi.append(loss.log10().item())"
   ]
  },
  {
   "cell_type": "code",
   "execution_count": 51,
   "id": "fdc43ddd",
   "metadata": {},
   "outputs": [
    {
     "name": "stdout",
     "output_type": "stream",
     "text": [
      "train 0.03105025179684162\n",
      "val 0.07502351701259613\n"
     ]
    }
   ],
   "source": [
    "@torch.no_grad() # this decorator disables gradient tracking\n",
    "def split_loss(split):\n",
    "\tx,y = {\n",
    "\t\t'train': (Xtr, ytr),\n",
    "\t\t'val': (X_val, y_val),\n",
    "\t\t'test': (X_test, y_test),\n",
    "\t\t}[split]\n",
    "\tlogits = model(x)\n",
    "\tloss = torch.nn.functional.cross_entropy(logits, y)\n",
    "\tprint(split, loss.item())\n",
    "\n",
    "split_loss('train')\n",
    "split_loss('val')"
   ]
  }
 ],
 "metadata": {
  "kernelspec": {
   "display_name": "Python 3",
   "language": "python",
   "name": "python3"
  },
  "language_info": {
   "codemirror_mode": {
    "name": "ipython",
    "version": 3
   },
   "file_extension": ".py",
   "mimetype": "text/x-python",
   "name": "python",
   "nbconvert_exporter": "python",
   "pygments_lexer": "ipython3",
   "version": "3.13.5"
  }
 },
 "nbformat": 4,
 "nbformat_minor": 5
}
