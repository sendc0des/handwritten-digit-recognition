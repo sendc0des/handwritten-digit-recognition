{
 "cells": [
  {
   "cell_type": "code",
   "execution_count": 41,
   "id": "e44ff8ee",
   "metadata": {},
   "outputs": [],
   "source": [
    "import os\n",
    "import numpy as np\n",
    "os.environ['TF_ENABLE_ONEDNN_OPTS'] = '0'\n",
    "from tensorflow import keras\n",
    "import tensorflow as tf\n",
    "import torch\n",
    "\n",
    "np.random.seed(42)\n",
    "tf.random.set_seed(42)\n",
    "g = torch.Generator().manual_seed(2147483647)"
   ]
  },
  {
   "cell_type": "code",
   "execution_count": 42,
   "id": "5b1f392a",
   "metadata": {},
   "outputs": [],
   "source": [
    "class Linear:\n",
    "    \n",
    "    def __init__(self, fan_in, fan_out, bias=True):\n",
    "        self.weight = torch.randn((fan_in, fan_out), generator=g) * (fan_in**0.5)\n",
    "        self.bias = torch.randn((fan_out), generator=g)\n",
    "\n",
    "    def __call__(self, x):\n",
    "        self.out = x @ self.weight\n",
    "        if self.bias is not None:\n",
    "            self.out += self.bias\n",
    "        return self.out\n",
    "    \n",
    "    def parameters(self):\n",
    "        return [self.weight] + ([] if self.bias is None else [self.bias])\n",
    "    \n",
    "class ReLU:\n",
    "    \n",
    "    def __call__(self, x):\n",
    "        self.out = torch.relu(x)\n",
    "        return self.out\n",
    "    \n",
    "    def parameters(self):\n",
    "        return []\n",
    "    \n",
    "class Sequential:\n",
    "\n",
    "    def __init__(self, layers):\n",
    "        self.layers = layers\n",
    "\n",
    "    def __call__(self, x):\n",
    "        for layer in self.layers:\n",
    "            x = layer(x)\n",
    "        self.out = x\n",
    "        return self.out\n",
    "    \n",
    "    def parameters(self):\n",
    "        return [p for layer in self.layers for p in layer.parameters()]"
   ]
  },
  {
   "cell_type": "code",
   "execution_count": 43,
   "id": "3c351d01",
   "metadata": {},
   "outputs": [],
   "source": [
    "# import the dataset\n",
    "(X_train, y_train), (X_test, y_test) = tf.keras.datasets.mnist.load_data()\n",
    "\n",
    "# scale the values and reshape the tensors to make them 2D\n",
    "X_train = X_train.astype(\"float32\") / 255.0\n",
    "X_test = X_test.astype(\"float32\") / 255.0\n",
    "\n",
    "X_train = X_train.reshape(-1,28*28)\n",
    "X_test = X_test.reshape(-1,28*28)\n",
    "\n",
    "# convert the tensorflow tensors to pytorch tensors\n",
    "numpy_arr = [X_train, y_train, X_test, y_test]\n",
    "pytorch_tensors = [torch.from_numpy(t) for t in numpy_arr]\n",
    "X_train, y_train, X_test, y_test = pytorch_tensors\n",
    "\n",
    "# split the dataset into train, eval and test sets\n",
    "num_samples = len(X_train)\n",
    "n = 0.8\n",
    "split_index = int(num_samples * n)\n",
    "\n",
    "Xtr, X_val, ytr, y_val = X_train[:split_index], X_train[split_index:], y_train[:split_index], y_train[split_index:]\n"
   ]
  },
  {
   "cell_type": "code",
   "execution_count": 46,
   "id": "5810c14c",
   "metadata": {},
   "outputs": [],
   "source": [
    "# define the model\n",
    "n_hidden = 128\n",
    "num_digits = 10\n",
    "\n",
    "model = Sequential([\n",
    "    Linear(784, n_hidden), ReLU(),\n",
    "    Linear(n_hidden, n_hidden), ReLU(),\n",
    "    Linear(n_hidden, num_digits),\n",
    "])\n",
    "\n",
    "with torch.no_grad():\n",
    "    model.layers[-1].weight *= 0.1\n",
    "    \n",
    "parameters = model.parameters()\n",
    "for p in parameters:\n",
    "    p.requires_grad = True"
   ]
  },
  {
   "cell_type": "code",
   "execution_count": 47,
   "id": "46eb50c8",
   "metadata": {},
   "outputs": [
    {
     "name": "stdout",
     "output_type": "stream",
     "text": [
      "      0/ 100000: 386235.7188\n"
     ]
    },
    {
     "ename": "KeyboardInterrupt",
     "evalue": "",
     "output_type": "error",
     "traceback": [
      "\u001b[31m---------------------------------------------------------------------------\u001b[39m",
      "\u001b[31mKeyboardInterrupt\u001b[39m                         Traceback (most recent call last)",
      "\u001b[36mCell\u001b[39m\u001b[36m \u001b[39m\u001b[32mIn[47]\u001b[39m\u001b[32m, line 8\u001b[39m\n\u001b[32m      4\u001b[39m lossi = []\n\u001b[32m      6\u001b[39m \u001b[38;5;28;01mfor\u001b[39;00m i \u001b[38;5;129;01min\u001b[39;00m \u001b[38;5;28mrange\u001b[39m(max_steps):\n\u001b[32m----> \u001b[39m\u001b[32m8\u001b[39m     ix = \u001b[43mtorch\u001b[49m\u001b[43m.\u001b[49m\u001b[43mrandint\u001b[49m\u001b[43m(\u001b[49m\u001b[32;43m0\u001b[39;49m\u001b[43m,\u001b[49m\u001b[43m \u001b[49m\u001b[43mXtr\u001b[49m\u001b[43m.\u001b[49m\u001b[43mshape\u001b[49m\u001b[43m[\u001b[49m\u001b[32;43m0\u001b[39;49m\u001b[43m]\u001b[49m\u001b[43m,\u001b[49m\u001b[43m \u001b[49m\u001b[43m(\u001b[49m\u001b[43mbatch_size\u001b[49m\u001b[43m,\u001b[49m\u001b[43m)\u001b[49m\u001b[43m,\u001b[49m\u001b[43m \u001b[49m\u001b[43mgenerator\u001b[49m\u001b[43m=\u001b[49m\u001b[43mg\u001b[49m\u001b[43m)\u001b[49m\n\u001b[32m      9\u001b[39m     Xb, yb = Xtr[ix], ytr[ix]\n\u001b[32m     11\u001b[39m     logits = model(Xb)\n",
      "\u001b[31mKeyboardInterrupt\u001b[39m: "
     ]
    }
   ],
   "source": [
    "# train the model on the train set\n",
    "max_steps = 100000\n",
    "batch_size = 32\n",
    "lossi = []\n",
    "\n",
    "for i in range(max_steps):\n",
    "\n",
    "    ix = torch.randint(0, Xtr.shape[0], (batch_size,), generator=g)\n",
    "    Xb, yb = Xtr[ix], ytr[ix]\n",
    "\n",
    "    logits = model(Xb)\n",
    "    # logits_maxes = logits.max(axis=1, keepdim=True).values\n",
    "    # stable_logits = logits - logits_maxes\n",
    "    # counts = logits.exp()\n",
    "    # probs = counts / counts.sum(axis=1, keepdim=True)\n",
    "    # loss = -probs[torch.arange(batch_size), yb.long()].log().mean()\n",
    "    loss = torch.nn.functional.cross_entropy(logits, yb.long())\n",
    "\n",
    "    # backward pass\n",
    "    for p in parameters:\n",
    "        p.grad = None\n",
    "    loss.backward()\n",
    "\n",
    "    # update\n",
    "    lr = 0.1 if i<70000 else 0.01\n",
    "    for p in parameters:\n",
    "        p.data += -lr * p.grad\n",
    "\n",
    "    # track stats\n",
    "    if i % 10000 == 0:\n",
    "        print(f'{i:7d}/{max_steps:7d}: {loss.item():.4f}')\n",
    "    lossi.append(loss.log10().item())"
   ]
  },
  {
   "cell_type": "code",
   "execution_count": 32,
   "id": "fdc43ddd",
   "metadata": {},
   "outputs": [
    {
     "name": "stdout",
     "output_type": "stream",
     "text": [
      "train 2.301009178161621\n",
      "val 2.302182197570801\n"
     ]
    }
   ],
   "source": [
    "@torch.no_grad() # this decorator disables gradient tracking\n",
    "def split_loss(split):\n",
    "\tx,y = {\n",
    "\t\t'train': (Xtr, ytr),\n",
    "\t\t'val': (X_val, y_val),\n",
    "\t\t'test': (X_test, y_test),\n",
    "\t\t}[split]\n",
    "\tlogits = model(x)\n",
    "\tloss = torch.nn.functional.cross_entropy(logits, y)\n",
    "\tprint(split, loss.item())\n",
    "\n",
    "split_loss('train')\n",
    "split_loss('val')"
   ]
  },
  {
   "cell_type": "code",
   "execution_count": null,
   "id": "9db93a57",
   "metadata": {},
   "outputs": [],
   "source": []
  }
 ],
 "metadata": {
  "kernelspec": {
   "display_name": "Python 3",
   "language": "python",
   "name": "python3"
  },
  "language_info": {
   "codemirror_mode": {
    "name": "ipython",
    "version": 3
   },
   "file_extension": ".py",
   "mimetype": "text/x-python",
   "name": "python",
   "nbconvert_exporter": "python",
   "pygments_lexer": "ipython3",
   "version": "3.13.5"
  }
 },
 "nbformat": 4,
 "nbformat_minor": 5
}
