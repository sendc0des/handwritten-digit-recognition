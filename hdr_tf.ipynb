{
 "cells": [
  {
   "cell_type": "code",
   "execution_count": 9,
   "id": "f4b858f7",
   "metadata": {},
   "outputs": [],
   "source": [
    "import numpy as np\n",
    "import matplotlib.pyplot as plt\n",
    "import os\n",
    "os.environ['TF_ENABLE_ONEDNN_OPTS'] = '0'\n",
    "from tensorflow import keras\n",
    "import tensorflow as tf\n",
    "from sklearn.model_selection import train_test_split\n",
    "from sklearn.metrics import classification_report, confusion_matrix\n",
    "\n",
    "np.random.seed(42)\n",
    "tf.random.set_seed(42)"
   ]
  },
  {
   "cell_type": "code",
   "execution_count": 5,
   "id": "67416d43",
   "metadata": {},
   "outputs": [
    {
     "name": "stdout",
     "output_type": "stream",
     "text": [
      "(60000, 28, 28), (60000,)\n",
      "(10000, 28, 28), (10000,)\n"
     ]
    }
   ],
   "source": [
    "(X_train, y_train), (X_test, y_test) = tf.keras.datasets.mnist.load_data()\n",
    "\n",
    "print(f\"{X_train.shape}, {y_train.shape}\")\n",
    "print(f\"{X_test.shape}, {y_test.shape}\")"
   ]
  },
  {
   "cell_type": "code",
   "execution_count": 6,
   "id": "faa94877",
   "metadata": {},
   "outputs": [
    {
     "data": {
      "image/png": "[encoded data removed]",
      "text/plain": [
       "<Figure size 500x500 with 9 Axes>"
      ]
     },
     "metadata": {},
     "output_type": "display_data"
    }
   ],
   "source": [
    "plt.figure(figsize=(5,5))\n",
    "for i in range(9):\n",
    "    plt.subplot(3,3,i+1)\n",
    "    plt.imshow(X_train[i], cmap=\"gray\")\n",
    "    plt.title(int(y_train[i]))\n",
    "    plt.axis(\"off\")\n",
    "plt.tight_layout(); plt.show()"
   ]
  },
  {
   "cell_type": "code",
   "execution_count": 7,
   "id": "9d5fd390",
   "metadata": {},
   "outputs": [],
   "source": [
    "X_train = X_train.astype(\"float32\") / 255.0\n",
    "X_test = X_test.astype(\"float32\") / 255.0\n",
    "\n",
    "X_train = X_train.reshape(-1,28*28)\n",
    "X_test = X_test.reshape(-1,28*28)\n",
    "\n",
    "X_train, X_val, y_train, y_val = train_test_split(X_train, y_train, test_size=10000, random_state=42, stratify=y_train)"
   ]
  },
  {
   "cell_type": "code",
   "execution_count": 14,
   "id": "8897ff6d",
   "metadata": {},
   "outputs": [
    {
     "name": "stdout",
     "output_type": "stream",
     "text": [
      "train: (50000, 784) (50000,)\n",
      "val  : (10000, 784) (10000,)\n",
      "test : (10000, 784) (10000,)\n"
     ]
    }
   ],
   "source": [
    "print(\"train:\", X_train.shape, y_train.shape)\n",
    "print(\"val  :\", X_val.shape,   y_val.shape)\n",
    "print(\"test :\", X_test.shape,  y_test.shape)"
   ]
  },
  {
   "cell_type": "code",
   "execution_count": 15,
   "id": "70e8dd0d",
   "metadata": {},
   "outputs": [
    {
     "data": {
      "text/html": [
       "<pre style=\"white-space:pre;overflow-x:auto;line-height:normal;font-family:Menlo,'DejaVu Sans Mono',consolas,'Courier New',monospace\"><span style=\"font-weight: bold\">Model: \"sequential\"</span>\n",
       "</pre>\n"
      ],
      "text/plain": [
       "\u001b[1mModel: \"sequential\"\u001b[0m\n"
      ]
     },
     "metadata": {},
     "output_type": "display_data"
    },
    {
     "data": {
      "text/html": [
       "<pre style=\"white-space:pre;overflow-x:auto;line-height:normal;font-family:Menlo,'DejaVu Sans Mono',consolas,'Courier New',monospace\">┏━━━━━━━━━━━━━━━━━━━━━━━━━━━━━━━━━┳━━━━━━━━━━━━━━━━━━━━━━━━┳━━━━━━━━━━━━━━━┓\n",
       "┃<span style=\"font-weight: bold\"> Layer (type)                    </span>┃<span style=\"font-weight: bold\"> Output Shape           </span>┃<span style=\"font-weight: bold\">       Param # </span>┃\n",
       "┡━━━━━━━━━━━━━━━━━━━━━━━━━━━━━━━━━╇━━━━━━━━━━━━━━━━━━━━━━━━╇━━━━━━━━━━━━━━━┩\n",
       "│ dense (<span style=\"color: #0087ff; text-decoration-color: #0087ff\">Dense</span>)                   │ (<span style=\"color: #00d7ff; text-decoration-color: #00d7ff\">None</span>, <span style=\"color: #00af00; text-decoration-color: #00af00\">128</span>)            │       <span style=\"color: #00af00; text-decoration-color: #00af00\">100,480</span> │\n",
       "├─────────────────────────────────┼────────────────────────┼───────────────┤\n",
       "│ dense_1 (<span style=\"color: #0087ff; text-decoration-color: #0087ff\">Dense</span>)                 │ (<span style=\"color: #00d7ff; text-decoration-color: #00d7ff\">None</span>, <span style=\"color: #00af00; text-decoration-color: #00af00\">64</span>)             │         <span style=\"color: #00af00; text-decoration-color: #00af00\">8,256</span> │\n",
       "├─────────────────────────────────┼────────────────────────┼───────────────┤\n",
       "│ dense_2 (<span style=\"color: #0087ff; text-decoration-color: #0087ff\">Dense</span>)                 │ (<span style=\"color: #00d7ff; text-decoration-color: #00d7ff\">None</span>, <span style=\"color: #00af00; text-decoration-color: #00af00\">10</span>)             │           <span style=\"color: #00af00; text-decoration-color: #00af00\">650</span> │\n",
       "└─────────────────────────────────┴────────────────────────┴───────────────┘\n",
       "</pre>\n"
      ],
      "text/plain": [
       "┏━━━━━━━━━━━━━━━━━━━━━━━━━━━━━━━━━┳━━━━━━━━━━━━━━━━━━━━━━━━┳━━━━━━━━━━━━━━━┓\n",
       "┃\u001b[1m \u001b[0m\u001b[1mLayer (type)                   \u001b[0m\u001b[1m \u001b[0m┃\u001b[1m \u001b[0m\u001b[1mOutput Shape          \u001b[0m\u001b[1m \u001b[0m┃\u001b[1m \u001b[0m\u001b[1m      Param #\u001b[0m\u001b[1m \u001b[0m┃\n",
       "┡━━━━━━━━━━━━━━━━━━━━━━━━━━━━━━━━━╇━━━━━━━━━━━━━━━━━━━━━━━━╇━━━━━━━━━━━━━━━┩\n",
       "│ dense (\u001b[38;5;33mDense\u001b[0m)                   │ (\u001b[38;5;45mNone\u001b[0m, \u001b[38;5;34m128\u001b[0m)            │       \u001b[38;5;34m100,480\u001b[0m │\n",
       "├─────────────────────────────────┼────────────────────────┼───────────────┤\n",
       "│ dense_1 (\u001b[38;5;33mDense\u001b[0m)                 │ (\u001b[38;5;45mNone\u001b[0m, \u001b[38;5;34m64\u001b[0m)             │         \u001b[38;5;34m8,256\u001b[0m │\n",
       "├─────────────────────────────────┼────────────────────────┼───────────────┤\n",
       "│ dense_2 (\u001b[38;5;33mDense\u001b[0m)                 │ (\u001b[38;5;45mNone\u001b[0m, \u001b[38;5;34m10\u001b[0m)             │           \u001b[38;5;34m650\u001b[0m │\n",
       "└─────────────────────────────────┴────────────────────────┴───────────────┘\n"
      ]
     },
     "metadata": {},
     "output_type": "display_data"
    },
    {
     "data": {
      "text/html": [
       "<pre style=\"white-space:pre;overflow-x:auto;line-height:normal;font-family:Menlo,'DejaVu Sans Mono',consolas,'Courier New',monospace\"><span style=\"font-weight: bold\"> Total params: </span><span style=\"color: #00af00; text-decoration-color: #00af00\">109,386</span> (427.29 KB)\n",
       "</pre>\n"
      ],
      "text/plain": [
       "\u001b[1m Total params: \u001b[0m\u001b[38;5;34m109,386\u001b[0m (427.29 KB)\n"
      ]
     },
     "metadata": {},
     "output_type": "display_data"
    },
    {
     "data": {
      "text/html": [
       "<pre style=\"white-space:pre;overflow-x:auto;line-height:normal;font-family:Menlo,'DejaVu Sans Mono',consolas,'Courier New',monospace\"><span style=\"font-weight: bold\"> Trainable params: </span><span style=\"color: #00af00; text-decoration-color: #00af00\">109,386</span> (427.29 KB)\n",
       "</pre>\n"
      ],
      "text/plain": [
       "\u001b[1m Trainable params: \u001b[0m\u001b[38;5;34m109,386\u001b[0m (427.29 KB)\n"
      ]
     },
     "metadata": {},
     "output_type": "display_data"
    },
    {
     "data": {
      "text/html": [
       "<pre style=\"white-space:pre;overflow-x:auto;line-height:normal;font-family:Menlo,'DejaVu Sans Mono',consolas,'Courier New',monospace\"><span style=\"font-weight: bold\"> Non-trainable params: </span><span style=\"color: #00af00; text-decoration-color: #00af00\">0</span> (0.00 B)\n",
       "</pre>\n"
      ],
      "text/plain": [
       "\u001b[1m Non-trainable params: \u001b[0m\u001b[38;5;34m0\u001b[0m (0.00 B)\n"
      ]
     },
     "metadata": {},
     "output_type": "display_data"
    }
   ],
   "source": [
    "model=tf.keras.models.Sequential([\n",
    "    tf.keras.layers.Input(shape=(784,)),\n",
    "    tf.keras.layers.Dense(128, activation=\"relu\"),\n",
    "    tf.keras.layers.Dense(64, activation=\"relu\"),\n",
    "    tf.keras.layers.Dense(10, activation=\"softmax\")\n",
    "])\n",
    "\n",
    "model.compile(\n",
    "    loss=tf.keras.losses.SparseCategoricalCrossentropy(),\n",
    "    optimizer=tf.keras.optimizers.Adam(learning_rate=0.001),\n",
    "    metrics=[tf.keras.metrics.SparseCategoricalAccuracy()] #It computes the proportion of correct predictions (where the predicted class matches the true class) out of the total number of predictions.\n",
    ")\n",
    "\n",
    "model.summary()"
   ]
  },
  {
   "cell_type": "code",
   "execution_count": 16,
   "id": "b2dd2840",
   "metadata": {},
   "outputs": [],
   "source": [
    "early_stop = tf.keras.callbacks.EarlyStopping(\n",
    "    monitor=\"val_accuracy\", mode=\"max\", patience=3, restore_best_weights=True\n",
    ")"
   ]
  },
  {
   "cell_type": "code",
   "execution_count": 17,
   "id": "2a8e0f57",
   "metadata": {},
   "outputs": [
    {
     "name": "stdout",
     "output_type": "stream",
     "text": [
      "Epoch 1/20\n",
      "391/391 - 1s - 3ms/step - loss: 0.3649 - sparse_categorical_accuracy: 0.8979 - val_loss: 0.1857 - val_sparse_categorical_accuracy: 0.9463\n",
      "Epoch 2/20\n"
     ]
    },
    {
     "name": "stderr",
     "output_type": "stream",
     "text": [
      "c:\\Users\\Arjun\\AppData\\Local\\Programs\\Python\\Python313\\Lib\\site-packages\\keras\\src\\callbacks\\early_stopping.py:99: UserWarning: Early stopping conditioned on metric `val_accuracy` which is not available. Available metrics are: loss,sparse_categorical_accuracy,val_loss,val_sparse_categorical_accuracy\n",
      "  current = self.get_monitor_value(logs)\n"
     ]
    },
    {
     "name": "stdout",
     "output_type": "stream",
     "text": [
      "391/391 - 1s - 2ms/step - loss: 0.1448 - sparse_categorical_accuracy: 0.9568 - val_loss: 0.1331 - val_sparse_categorical_accuracy: 0.9601\n",
      "Epoch 3/20\n",
      "391/391 - 1s - 2ms/step - loss: 0.1013 - sparse_categorical_accuracy: 0.9699 - val_loss: 0.1112 - val_sparse_categorical_accuracy: 0.9656\n",
      "Epoch 4/20\n",
      "391/391 - 1s - 2ms/step - loss: 0.0768 - sparse_categorical_accuracy: 0.9773 - val_loss: 0.1014 - val_sparse_categorical_accuracy: 0.9693\n",
      "Epoch 5/20\n",
      "391/391 - 1s - 2ms/step - loss: 0.0600 - sparse_categorical_accuracy: 0.9827 - val_loss: 0.0987 - val_sparse_categorical_accuracy: 0.9698\n",
      "Epoch 6/20\n",
      "391/391 - 1s - 2ms/step - loss: 0.0485 - sparse_categorical_accuracy: 0.9862 - val_loss: 0.0959 - val_sparse_categorical_accuracy: 0.9715\n",
      "Epoch 7/20\n",
      "391/391 - 1s - 2ms/step - loss: 0.0393 - sparse_categorical_accuracy: 0.9892 - val_loss: 0.0933 - val_sparse_categorical_accuracy: 0.9736\n",
      "Epoch 8/20\n",
      "391/391 - 1s - 2ms/step - loss: 0.0315 - sparse_categorical_accuracy: 0.9914 - val_loss: 0.0936 - val_sparse_categorical_accuracy: 0.9738\n",
      "Epoch 9/20\n",
      "391/391 - 1s - 2ms/step - loss: 0.0256 - sparse_categorical_accuracy: 0.9935 - val_loss: 0.0976 - val_sparse_categorical_accuracy: 0.9737\n",
      "Epoch 10/20\n",
      "391/391 - 1s - 2ms/step - loss: 0.0225 - sparse_categorical_accuracy: 0.9941 - val_loss: 0.0993 - val_sparse_categorical_accuracy: 0.9732\n",
      "Epoch 11/20\n",
      "391/391 - 1s - 2ms/step - loss: 0.0180 - sparse_categorical_accuracy: 0.9950 - val_loss: 0.1027 - val_sparse_categorical_accuracy: 0.9738\n",
      "Epoch 12/20\n",
      "391/391 - 1s - 2ms/step - loss: 0.0148 - sparse_categorical_accuracy: 0.9962 - val_loss: 0.1026 - val_sparse_categorical_accuracy: 0.9749\n",
      "Epoch 13/20\n",
      "391/391 - 1s - 2ms/step - loss: 0.0126 - sparse_categorical_accuracy: 0.9966 - val_loss: 0.1071 - val_sparse_categorical_accuracy: 0.9738\n",
      "Epoch 14/20\n",
      "391/391 - 1s - 2ms/step - loss: 0.0117 - sparse_categorical_accuracy: 0.9965 - val_loss: 0.1179 - val_sparse_categorical_accuracy: 0.9737\n",
      "Epoch 15/20\n",
      "391/391 - 1s - 2ms/step - loss: 0.0117 - sparse_categorical_accuracy: 0.9964 - val_loss: 0.1162 - val_sparse_categorical_accuracy: 0.9742\n",
      "Epoch 16/20\n",
      "391/391 - 1s - 2ms/step - loss: 0.0129 - sparse_categorical_accuracy: 0.9959 - val_loss: 0.1224 - val_sparse_categorical_accuracy: 0.9730\n",
      "Epoch 17/20\n",
      "391/391 - 1s - 2ms/step - loss: 0.0095 - sparse_categorical_accuracy: 0.9971 - val_loss: 0.1175 - val_sparse_categorical_accuracy: 0.9746\n",
      "Epoch 18/20\n",
      "391/391 - 1s - 2ms/step - loss: 0.0085 - sparse_categorical_accuracy: 0.9973 - val_loss: 0.1109 - val_sparse_categorical_accuracy: 0.9765\n",
      "Epoch 19/20\n",
      "391/391 - 1s - 2ms/step - loss: 0.0074 - sparse_categorical_accuracy: 0.9977 - val_loss: 0.1128 - val_sparse_categorical_accuracy: 0.9773\n",
      "Epoch 20/20\n",
      "391/391 - 1s - 2ms/step - loss: 0.0066 - sparse_categorical_accuracy: 0.9978 - val_loss: 0.1339 - val_sparse_categorical_accuracy: 0.9757\n"
     ]
    }
   ],
   "source": [
    "history = model.fit(\n",
    "    X_train, y_train,\n",
    "    epochs=20, batch_size=128,\n",
    "    validation_data=(X_val, y_val),\n",
    "    callbacks=[early_stop],\n",
    "    verbose=2\n",
    ")"
   ]
  },
  {
   "cell_type": "code",
   "execution_count": 22,
   "id": "3e053bad",
   "metadata": {},
   "outputs": [],
   "source": [
    "model.save(\"F:/corporate majdoor/ML/Hand Digit Recognition/hdr_ANN.keras\")"
   ]
  },
  {
   "cell_type": "code",
   "execution_count": 3,
   "id": "8d6a4cb6",
   "metadata": {},
   "outputs": [],
   "source": [
    "model = tf.keras.models.load_model(\"hdr_ANN.keras\")"
   ]
  },
  {
   "cell_type": "code",
   "execution_count": 8,
   "id": "7a073848",
   "metadata": {},
   "outputs": [
    {
     "name": "stdout",
     "output_type": "stream",
     "text": [
      "\u001b[1m1/1\u001b[0m \u001b[32m━━━━━━━━━━━━━━━━━━━━\u001b[0m\u001b[37m\u001b[0m \u001b[1m0s\u001b[0m 53ms/step\n",
      "preds: [7, 2, 1, 0, 4, 1, 4, 9, 6, 9, 0, 6, 9, 0, 1, 5]\n",
      "true : [7, 2, 1, 0, 4, 1, 4, 9, 5, 9, 0, 6, 9, 0, 1, 5]\n"
     ]
    }
   ],
   "source": [
    "probs = model.predict(X_test[:16])\n",
    "preds = probs.argmax(axis=1)\n",
    "\n",
    "print(\"preds:\", preds.tolist())\n",
    "print(\"true :\", y_test[:16].tolist())"
   ]
  },
  {
   "cell_type": "code",
   "execution_count": 10,
   "id": "a9a91e10",
   "metadata": {},
   "outputs": [
    {
     "name": "stdout",
     "output_type": "stream",
     "text": [
      "\u001b[1m313/313\u001b[0m \u001b[32m━━━━━━━━━━━━━━━━━━━━\u001b[0m\u001b[37m\u001b[0m \u001b[1m0s\u001b[0m 616us/step\n",
      "              precision    recall  f1-score   support\n",
      "\n",
      "           0     0.9643    0.9918    0.9779       980\n",
      "           1     0.9886    0.9894    0.9890      1135\n",
      "           2     0.9675    0.9797    0.9735      1032\n",
      "           3     0.9686    0.9772    0.9729      1010\n",
      "           4     0.9823    0.9623    0.9722       982\n",
      "           5     0.9850    0.9596    0.9722       892\n",
      "           6     0.9633    0.9854    0.9742       958\n",
      "           7     0.9812    0.9669    0.9740      1028\n",
      "           8     0.9729    0.9589    0.9659       974\n",
      "           9     0.9663    0.9653    0.9658      1009\n",
      "\n",
      "    accuracy                         0.9740     10000\n",
      "   macro avg     0.9740    0.9737    0.9738     10000\n",
      "weighted avg     0.9741    0.9740    0.9740     10000\n",
      "\n"
     ]
    }
   ],
   "source": [
    "y_pred = model.predict(X_test).argmax(axis=1)\n",
    "print(classification_report(y_test, y_pred, digits=4))\n",
    "\n",
    "cm = confusion_matrix(y_test, y_pred)"
   ]
  }
 ],
 "metadata": {
  "kernelspec": {
   "display_name": "Python 3",
   "language": "python",
   "name": "python3"
  },
  "language_info": {
   "codemirror_mode": {
    "name": "ipython",
    "version": 3
   },
   "file_extension": ".py",
   "mimetype": "text/x-python",
   "name": "python",
   "nbconvert_exporter": "python",
   "pygments_lexer": "ipython3",
   "version": "3.13.5"
  }
 },
 "nbformat": 4,
 "nbformat_minor": 5
}
